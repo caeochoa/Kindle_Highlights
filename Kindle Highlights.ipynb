{
 "cells": [
  {
   "cell_type": "markdown",
   "metadata": {},
   "source": [
    "# Kindle Highlights\n",
    "A short script to take the highlights exported in csv from an *Amazon Kindle* book and transform them into plain text that can be copied and pasted into *Roam*."
   ]
  },
  {
   "cell_type": "code",
   "execution_count": 78,
   "metadata": {},
   "outputs": [],
   "source": [
    "import pandas as pd"
   ]
  },
  {
   "cell_type": "code",
   "execution_count": 79,
   "metadata": {},
   "outputs": [],
   "source": [
    "df_highlights = pd.read_csv(\"book_highlights.csv\", header=7) # import the desired highlights file, skipping the first 7 rows which aren't highlights"
   ]
  },
  {
   "cell_type": "code",
   "execution_count": 80,
   "metadata": {},
   "outputs": [
    {
     "data": {
      "text/html": [
       "<div>\n",
       "<style scoped>\n",
       "    .dataframe tbody tr th:only-of-type {\n",
       "        vertical-align: middle;\n",
       "    }\n",
       "\n",
       "    .dataframe tbody tr th {\n",
       "        vertical-align: top;\n",
       "    }\n",
       "\n",
       "    .dataframe thead th {\n",
       "        text-align: right;\n",
       "    }\n",
       "</style>\n",
       "<table border=\"1\" class=\"dataframe\">\n",
       "  <thead>\n",
       "    <tr style=\"text-align: right;\">\n",
       "      <th></th>\n",
       "      <th>Annotation Type</th>\n",
       "      <th>Location</th>\n",
       "      <th>Starred?</th>\n",
       "      <th>Annotation</th>\n",
       "    </tr>\n",
       "  </thead>\n",
       "  <tbody>\n",
       "    <tr>\n",
       "      <th>0</th>\n",
       "      <td>Highlight (Yellow)</td>\n",
       "      <td>Location 99</td>\n",
       "      <td>NaN</td>\n",
       "      <td>“Until you make the unconscious, conscious, it...</td>\n",
       "    </tr>\n",
       "    <tr>\n",
       "      <th>1</th>\n",
       "      <td>Highlight (Yellow)</td>\n",
       "      <td>Location 99</td>\n",
       "      <td>NaN</td>\n",
       "      <td>Until you make the unconscious, conscious, it ...</td>\n",
       "    </tr>\n",
       "    <tr>\n",
       "      <th>2</th>\n",
       "      <td>Highlight (Yellow)</td>\n",
       "      <td>Location 112</td>\n",
       "      <td>NaN</td>\n",
       "      <td>I realized that when you only focus on the lig...</td>\n",
       "    </tr>\n",
       "    <tr>\n",
       "      <th>3</th>\n",
       "      <td>Highlight (Yellow)</td>\n",
       "      <td>Location 112</td>\n",
       "      <td>NaN</td>\n",
       "      <td>I realized that when you only focus on the lig...</td>\n",
       "    </tr>\n",
       "    <tr>\n",
       "      <th>4</th>\n",
       "      <td>Highlight (Yellow)</td>\n",
       "      <td>Location 119</td>\n",
       "      <td>NaN</td>\n",
       "      <td>the idea that on some level we could want or e...</td>\n",
       "    </tr>\n",
       "    <tr>\n",
       "      <th>...</th>\n",
       "      <td>...</td>\n",
       "      <td>...</td>\n",
       "      <td>...</td>\n",
       "      <td>...</td>\n",
       "    </tr>\n",
       "    <tr>\n",
       "      <th>160</th>\n",
       "      <td>Highlight (Yellow)</td>\n",
       "      <td>Location 673</td>\n",
       "      <td>NaN</td>\n",
       "      <td>In other words, the seven axioms I'll present ...</td>\n",
       "    </tr>\n",
       "    <tr>\n",
       "      <th>161</th>\n",
       "      <td>Highlight (Yellow)</td>\n",
       "      <td>Location 675</td>\n",
       "      <td>NaN</td>\n",
       "      <td>1) Having is evidence of wanting</td>\n",
       "    </tr>\n",
       "    <tr>\n",
       "      <th>162</th>\n",
       "      <td>Highlight (Yellow)</td>\n",
       "      <td>Location 677</td>\n",
       "      <td>NaN</td>\n",
       "      <td>But, again, it's not the conscious part of us ...</td>\n",
       "    </tr>\n",
       "    <tr>\n",
       "      <th>163</th>\n",
       "      <td>Highlight (Yellow)</td>\n",
       "      <td>Location 681</td>\n",
       "      <td>NaN</td>\n",
       "      <td>Jung explained throughout his work that your u...</td>\n",
       "    </tr>\n",
       "    <tr>\n",
       "      <th>164</th>\n",
       "      <td>Note</td>\n",
       "      <td>Location 742</td>\n",
       "      <td>NaN</td>\n",
       "      <td>We have a choice to experience them as pleeasu...</td>\n",
       "    </tr>\n",
       "  </tbody>\n",
       "</table>\n",
       "<p>165 rows × 4 columns</p>\n",
       "</div>"
      ],
      "text/plain": [
       "        Annotation Type      Location  Starred?  \\\n",
       "0    Highlight (Yellow)   Location 99       NaN   \n",
       "1    Highlight (Yellow)   Location 99       NaN   \n",
       "2    Highlight (Yellow)  Location 112       NaN   \n",
       "3    Highlight (Yellow)  Location 112       NaN   \n",
       "4    Highlight (Yellow)  Location 119       NaN   \n",
       "..                  ...           ...       ...   \n",
       "160  Highlight (Yellow)  Location 673       NaN   \n",
       "161  Highlight (Yellow)  Location 675       NaN   \n",
       "162  Highlight (Yellow)  Location 677       NaN   \n",
       "163  Highlight (Yellow)  Location 681       NaN   \n",
       "164                Note  Location 742       NaN   \n",
       "\n",
       "                                            Annotation  \n",
       "0    “Until you make the unconscious, conscious, it...  \n",
       "1    Until you make the unconscious, conscious, it ...  \n",
       "2    I realized that when you only focus on the lig...  \n",
       "3    I realized that when you only focus on the lig...  \n",
       "4    the idea that on some level we could want or e...  \n",
       "..                                                 ...  \n",
       "160  In other words, the seven axioms I'll present ...  \n",
       "161                   1) Having is evidence of wanting  \n",
       "162  But, again, it's not the conscious part of us ...  \n",
       "163  Jung explained throughout his work that your u...  \n",
       "164  We have a choice to experience them as pleeasu...  \n",
       "\n",
       "[165 rows x 4 columns]"
      ]
     },
     "execution_count": 80,
     "metadata": {},
     "output_type": "execute_result"
    }
   ],
   "source": [
    "df_highlights"
   ]
  },
  {
   "cell_type": "markdown",
   "metadata": {},
   "source": [
    "There's many highlights which are repeated for some reason, so I'm gonna try and remove them"
   ]
  },
  {
   "cell_type": "code",
   "execution_count": 81,
   "metadata": {},
   "outputs": [
    {
     "name": "stdout",
     "output_type": "stream",
     "text": [
      "{3, 5, 7, 9, 11, 13, 15, 17, 19, 21, 23, 25, 27, 29, 31, 34, 36, 39, 41, 43, 46, 51, 53, 56, 60, 64, 66, 68, 72, 74, 76, 79, 82, 85}\n"
     ]
    }
   ],
   "source": [
    "t = []\n",
    "for i in range(df_highlights.shape[0]):\n",
    "    annotation1 = df_highlights.loc[i, 'Annotation']\n",
    "    s = df_highlights.loc[df_highlights['Annotation']==annotation1]\n",
    "    for u in s.index[1:].tolist():\n",
    "        t.append(u)\n",
    "t = set(t)\n",
    "print(t)"
   ]
  },
  {
   "cell_type": "code",
   "execution_count": 86,
   "metadata": {},
   "outputs": [],
   "source": [
    "hl = df_highlights.drop(labels=t, inplace=False)['Annotation']\n",
    "text = \"\"\n",
    "for i in hl:\n",
    "    text = text + i + \"\\n\""
   ]
  },
  {
   "cell_type": "code",
   "execution_count": 89,
   "metadata": {
    "scrolled": true
   },
   "outputs": [
    {
     "data": {
      "text/plain": [
       "CompletedProcess(args='pbcopy', returncode=0)"
      ]
     },
     "execution_count": 89,
     "metadata": {},
     "output_type": "execute_result"
    }
   ],
   "source": [
    "import subprocess \n",
    "subprocess.run(\"pbcopy\", universal_newlines=True, input=text)"
   ]
  },
  {
   "cell_type": "markdown",
   "metadata": {},
   "source": [
    "## So v1 looks like this"
   ]
  },
  {
   "cell_type": "code",
   "execution_count": 92,
   "metadata": {},
   "outputs": [],
   "source": [
    "import pandas as pd\n",
    "import subprocess \n",
    "\n",
    "def find_repetitions(df):\n",
    "    t = []\n",
    "    for i in range(df.shape[0]):\n",
    "        annotation1 = df.loc[i, 'Annotation']\n",
    "        s = df_highlights.loc[df['Annotation']==annotation1]\n",
    "        for u in s.index[1:].tolist():\n",
    "            t.append(u)\n",
    "    t = set(t)\n",
    "    return t\n",
    "\n",
    "def export(hl):\n",
    "    text = \"\"\n",
    "    for i in hl:\n",
    "        text = text + i + \"\\n\"\n",
    "    subprocess.run(\"pbcopy\", universal_newlines=True, input=text)\n",
    "    return\n",
    "\n",
    "file = input('Introduce filename:') #'book_highlights.csv' \n",
    "df = pd.read_csv(file, header=7) # import the desired highlights file, skipping the first 7 rows which aren't highlights\n",
    "\n",
    "repetitions = find_repetitions(df)\n",
    "hl = df_highlights.drop(labels=repetitions)['Annotation']\n",
    "export(hl)\n",
    "\n",
    "\n"
   ]
  },
  {
   "cell_type": "markdown",
   "metadata": {},
   "source": [
    "# It works!\n",
    "Or v1 does at least.\n",
    "\n",
    "Things I'd like for v2:\n",
    "- differentation between different types of highlights\n",
    "- export headings from the book so it's easier to locate highlights\n",
    "\n",
    "re: differentation between different types of highlights\n",
    "kindles only support one type so does it matter? need to find a way to differentiate them in a kindle, maybe with notes."
   ]
  },
  {
   "cell_type": "code",
   "execution_count": 88,
   "metadata": {},
   "outputs": [
    {
     "data": {
      "text/html": [
       "<div>\n",
       "<style scoped>\n",
       "    .dataframe tbody tr th:only-of-type {\n",
       "        vertical-align: middle;\n",
       "    }\n",
       "\n",
       "    .dataframe tbody tr th {\n",
       "        vertical-align: top;\n",
       "    }\n",
       "\n",
       "    .dataframe thead th {\n",
       "        text-align: right;\n",
       "    }\n",
       "</style>\n",
       "<table border=\"1\" class=\"dataframe\">\n",
       "  <thead>\n",
       "    <tr style=\"text-align: right;\">\n",
       "      <th></th>\n",
       "      <th>Annotation Type</th>\n",
       "      <th>Location</th>\n",
       "      <th>Starred?</th>\n",
       "      <th>Annotation</th>\n",
       "    </tr>\n",
       "  </thead>\n",
       "  <tbody>\n",
       "    <tr>\n",
       "      <th>83</th>\n",
       "      <td>Highlight (Blue)</td>\n",
       "      <td>Location 336</td>\n",
       "      <td>NaN</td>\n",
       "      <td>Visualizing, praying, affirming, spell-casting...</td>\n",
       "    </tr>\n",
       "    <tr>\n",
       "      <th>164</th>\n",
       "      <td>Note</td>\n",
       "      <td>Location 742</td>\n",
       "      <td>NaN</td>\n",
       "      <td>We have a choice to experience them as pleeasu...</td>\n",
       "    </tr>\n",
       "  </tbody>\n",
       "</table>\n",
       "</div>"
      ],
      "text/plain": [
       "      Annotation Type      Location  Starred?  \\\n",
       "83   Highlight (Blue)  Location 336       NaN   \n",
       "164              Note  Location 742       NaN   \n",
       "\n",
       "                                            Annotation  \n",
       "83   Visualizing, praying, affirming, spell-casting...  \n",
       "164  We have a choice to experience them as pleeasu...  "
      ]
     },
     "execution_count": 88,
     "metadata": {},
     "output_type": "execute_result"
    }
   ],
   "source": [
    "df_highlights.loc[df_highlights['Annotation Type']!='Highlight (Yellow)']"
   ]
  },
  {
   "cell_type": "code",
   "execution_count": null,
   "metadata": {},
   "outputs": [],
   "source": []
  }
 ],
 "metadata": {
  "kernelspec": {
   "display_name": "Python 3",
   "language": "python",
   "name": "python3"
  },
  "language_info": {
   "codemirror_mode": {
    "name": "ipython",
    "version": 3
   },
   "file_extension": ".py",
   "mimetype": "text/x-python",
   "name": "python",
   "nbconvert_exporter": "python",
   "pygments_lexer": "ipython3",
   "version": "3.8.3"
  }
 },
 "nbformat": 4,
 "nbformat_minor": 4
}
